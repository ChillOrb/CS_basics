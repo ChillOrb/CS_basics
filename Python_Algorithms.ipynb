{
 "cells": [
  {
   "cell_type": "markdown",
   "metadata": {},
   "source": [
    "## ref\n",
    "\n",
    "- https://github.com/keon/algorithms"
   ]
  },
  {
   "cell_type": "markdown",
   "metadata": {},
   "source": [
    "# 1) Array"
   ]
  },
  {
   "cell_type": "markdown",
   "metadata": {},
   "source": [
    "### 1-1) flatten"
   ]
  },
  {
   "cell_type": "code",
   "execution_count": 1,
   "metadata": {
    "collapsed": true
   },
   "outputs": [],
   "source": [
    "# given  [2, 1, [3, [4, 5], 6], 7, [8]] \n",
    "# output [2, 1, 3, 4, 5, 6, 7, 8]\n",
    "\n",
    "def list_flatten(l, a=None):\n",
    "    print ('a = ', a)\n",
    "    a = list(a) if isinstance(a, (list, tuple)) else []\n",
    "    for i in l:\n",
    "        #print ('i = ', i)\n",
    "        if isinstance(i, (list, tuple)):\n",
    "            a = list_flatten(i, a)\n",
    "        else:\n",
    "            a.append(i)\n",
    "    return a"
   ]
  },
  {
   "cell_type": "code",
   "execution_count": 2,
   "metadata": {},
   "outputs": [
    {
     "name": "stdout",
     "output_type": "stream",
     "text": [
      "a =  None\n",
      "a =  [2, 1]\n",
      "a =  [2, 1, 3]\n",
      "a =  [2, 1, 3, 4, 5, 6, 7]\n"
     ]
    },
    {
     "data": {
      "text/plain": [
       "[2, 1, 3, 4, 5, 6, 7, 8]"
      ]
     },
     "execution_count": 2,
     "metadata": {},
     "output_type": "execute_result"
    }
   ],
   "source": [
    "given =  [2, 1, [3, [4, 5], 6], 7, [8]] \n",
    "list_flatten(given)"
   ]
  },
  {
   "cell_type": "markdown",
   "metadata": {},
   "source": [
    "### 1-2) garage"
   ]
  },
  {
   "cell_type": "code",
   "execution_count": 3,
   "metadata": {
    "collapsed": true
   },
   "outputs": [],
   "source": [
    "# https://github.com/keon/algorithms/blob/master/array/garage.py\n",
    "\n",
    "# The goal is to \"find out the least movement needed to rearrange\n",
    "# the parking lot from the initial state to the final state.\"\n",
    "#Each step we are only allowed tomove a car\n",
    "\n",
    "# Say the initial state is an array:\n",
    "\n",
    "# [1,2,3,0,4],\n",
    "# where 1,2,3,4 are different cars, and 0 is the empty spot.\n",
    "\n",
    "# And the final state is\n",
    "\n",
    "# [0,3,2,1,4].\n",
    "# We can swap 1 with 0 in the initial array to get [0,2,3,1,4] and so on.\n",
    "# Each step swap with 0 only.\n",
    "# credit by cyberking-saga\n",
    "\n",
    "\n",
    "\n",
    "def garage(initial, final):\n",
    "    steps = 0\n",
    "    while initial != final:\n",
    "        zero = initial.index(0)\n",
    "        if zero != final.index(0):\n",
    "            car_to_move = final[zero]\n",
    "            pos = initial.index(car_to_move)\n",
    "            initial[zero], initial[pos] = initial[pos], initial[zero]\n",
    "        else:\n",
    "            for i in range(len(initial)):\n",
    "                if initial[i] != final[i]:\n",
    "                    initial[zero], initial[i] = initial[i], initial[zero]\n",
    "                    break\n",
    "        steps += 1\n",
    "    return steps\n"
   ]
  },
  {
   "cell_type": "code",
   "execution_count": 4,
   "metadata": {},
   "outputs": [
    {
     "name": "stdout",
     "output_type": "stream",
     "text": [
      "initial: [4, 2, 3, 1, 0]\n",
      "final: [0, 3, 2, 1, 4]\n",
      "4\n"
     ]
    }
   ],
   "source": [
    "initial = [4, 2, 3, 1, 0]\n",
    "final = [0, 3, 2, 1, 4]\n",
    "print(\"initial:\", initial)\n",
    "print(\"final:\", final)\n",
    "print(garage(initial, final))"
   ]
  },
  {
   "cell_type": "markdown",
   "metadata": {},
   "source": [
    "### 3) longest_non_repeat"
   ]
  },
  {
   "cell_type": "code",
   "execution_count": 133,
   "metadata": {
    "collapsed": true
   },
   "outputs": [],
   "source": [
    "def longest_non_repeat(s):\n",
    "    start, maxlen = 0, 0\n",
    "    used_char = {}\n",
    "    for i, char in enumerate(s):\n",
    "        if char in used_char and start <= used_char[char]:\n",
    "            start = used_char[char] + 1\n",
    "        else:\n",
    "            maxlen = max(maxlen, i-start+1)\n",
    "        used_char[char] = i\n",
    "        output = ''.join( str(x) for x in list(used_char.keys()) )\n",
    "    return maxlen, output"
   ]
  },
  {
   "cell_type": "code",
   "execution_count": 140,
   "metadata": {},
   "outputs": [
    {
     "data": {
      "text/plain": [
       "(7, 'faedzcb')"
      ]
     },
     "execution_count": 140,
     "metadata": {},
     "output_type": "execute_result"
    }
   ],
   "source": [
    "a = \"abcabcdefzb\"\n",
    "b = \"qweeioplkj\"\n",
    "c = \"eeerfevg4e\"\n",
    "longest_non_repeat(a)"
   ]
  },
  {
   "cell_type": "markdown",
   "metadata": {},
   "source": [
    "### 4) merge_intervals"
   ]
  },
  {
   "cell_type": "code",
   "execution_count": 142,
   "metadata": {
    "collapsed": true
   },
   "outputs": [],
   "source": [
    "# Definition for an interval.\n",
    "class Interval(object):\n",
    "    def __init__(self, s=0, e=0):\n",
    "        self.start = s\n",
    "        self.end = e\n",
    "\n",
    "def merge(intervals):\n",
    "    \"\"\"\n",
    "    :type intervals: List[Interval]\n",
    "    :rtype: List[Interval]\n",
    "    \"\"\"\n",
    "    out = []\n",
    "    for i in sorted(intervals, key=lambda i: i.start):\n",
    "        if out and i.start <= out[-1].end:\n",
    "            out[-1].end = max(out[-1].end, i.end)\n",
    "        else:\n",
    "            out += i,\n",
    "    return out\n",
    "\n",
    "def print_intervals(intervals):\n",
    "    res = []\n",
    "    for i in intervals:\n",
    "        res.append('['+str(i.start)+','+str(i.end)+']')\n",
    "    print(\"\".join(res))\n",
    "\n"
   ]
  },
  {
   "cell_type": "code",
   "execution_count": 143,
   "metadata": {},
   "outputs": [
    {
     "name": "stdout",
     "output_type": "stream",
     "text": [
      "[1,99][2,6][8,10][15,18]\n",
      "[1,99]\n"
     ]
    }
   ],
   "source": [
    "given = [[1,99],[2,6],[8,10],[15,18]]\n",
    "intervals = []\n",
    "for l, r in given:\n",
    "    intervals.append(Interval(l,r))\n",
    "print_intervals(intervals)\n",
    "print_intervals(merge(intervals))"
   ]
  }
 ],
 "metadata": {
  "kernelspec": {
   "display_name": "Python 3",
   "language": "python",
   "name": "python3"
  },
  "language_info": {
   "codemirror_mode": {
    "name": "ipython",
    "version": 3
   },
   "file_extension": ".py",
   "mimetype": "text/x-python",
   "name": "python",
   "nbconvert_exporter": "python",
   "pygments_lexer": "ipython3",
   "version": "3.4.5"
  }
 },
 "nbformat": 4,
 "nbformat_minor": 2
}
