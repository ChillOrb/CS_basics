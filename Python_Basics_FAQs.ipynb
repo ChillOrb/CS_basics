{
 "cells": [
  {
   "cell_type": "markdown",
   "metadata": {},
   "source": [
    "### 1. Make numbers in a list ordering by value ?"
   ]
  },
  {
   "cell_type": "code",
   "execution_count": 164,
   "metadata": {
    "collapsed": true
   },
   "outputs": [],
   "source": [
    "# http://wuchong.me/blog/2014/02/09/algorithm-sort-summary/\n",
    "\n",
    "# method 1 \n",
    "# using max, remove \n",
    "def value_ordering(x):\n",
    "    out=[]\n",
    "    for k in range(len(x)):\n",
    "        #print ((x))\n",
    "        out.append(max(x))\n",
    "        x.remove(max(x))\n",
    "    return out\n",
    "\n"
   ]
  },
  {
   "cell_type": "code",
   "execution_count": 160,
   "metadata": {},
   "outputs": [
    {
     "data": {
      "text/plain": [
       "[9, 8, 6, 5, 5, 4, 1]"
      ]
     },
     "execution_count": 160,
     "metadata": {},
     "output_type": "execute_result"
    }
   ],
   "source": [
    "my_list = [8,1,9,4,5,5,6]\n",
    "value_ordering(my_list)"
   ]
  },
  {
   "cell_type": "code",
   "execution_count": 162,
   "metadata": {
    "scrolled": true
   },
   "outputs": [],
   "source": [
    "# method 2 \n",
    "# bubble \n",
    "def bubble_sort(arry):\n",
    "    n = len(arry)                                       #get length of list \n",
    "    for i in range(n):\n",
    "        for j in range(1,n-i):\n",
    "            if  arry[j-1] > arry[j] :                   # if the former > later, \n",
    "                arry[j-1],arry[j] = arry[j],arry[j-1]   #then reverse them\n",
    "                print (arry)\n",
    "    return arry\n"
   ]
  },
  {
   "cell_type": "code",
   "execution_count": 163,
   "metadata": {},
   "outputs": [
    {
     "name": "stdout",
     "output_type": "stream",
     "text": [
      "[1, 8, 9, 4, 5, 5, 6]\n",
      "[1, 8, 4, 9, 5, 5, 6]\n",
      "[1, 8, 4, 5, 9, 5, 6]\n",
      "[1, 8, 4, 5, 5, 9, 6]\n",
      "[1, 8, 4, 5, 5, 6, 9]\n",
      "[1, 4, 8, 5, 5, 6, 9]\n",
      "[1, 4, 5, 8, 5, 6, 9]\n",
      "[1, 4, 5, 5, 8, 6, 9]\n",
      "[1, 4, 5, 5, 6, 8, 9]\n"
     ]
    },
    {
     "data": {
      "text/plain": [
       "[1, 4, 5, 5, 6, 8, 9]"
      ]
     },
     "execution_count": 163,
     "metadata": {},
     "output_type": "execute_result"
    }
   ],
   "source": [
    "my_list = [8,1,9,4,5,5,6]\n",
    "bubble_sort(my_list)"
   ]
  },
  {
   "cell_type": "code",
   "execution_count": 167,
   "metadata": {
    "collapsed": true
   },
   "outputs": [],
   "source": [
    "# method 3 \n",
    "\n",
    "def select_sort(ary):\n",
    "    n = len(ary)\n",
    "    for i in range(0,n):\n",
    "        min = i                             #get index of min element \n",
    "        for j in range(i+1,n):\n",
    "            if ary[j] < ary[min] :\n",
    "                min = j                     #get index of minimum element \n",
    "        ary[min],ary[i] = ary[i],ary[min]   #reverse each other \n",
    "        print (ary)\n",
    "    return ary"
   ]
  },
  {
   "cell_type": "code",
   "execution_count": 169,
   "metadata": {},
   "outputs": [
    {
     "name": "stdout",
     "output_type": "stream",
     "text": [
      "[1, 8, 9, 4, 5, 5, 6]\n",
      "[1, 4, 9, 8, 5, 5, 6]\n",
      "[1, 4, 5, 8, 9, 5, 6]\n",
      "[1, 4, 5, 5, 9, 8, 6]\n",
      "[1, 4, 5, 5, 6, 8, 9]\n",
      "[1, 4, 5, 5, 6, 8, 9]\n",
      "[1, 4, 5, 5, 6, 8, 9]\n"
     ]
    },
    {
     "data": {
      "text/plain": [
       "[1, 4, 5, 5, 6, 8, 9]"
      ]
     },
     "execution_count": 169,
     "metadata": {},
     "output_type": "execute_result"
    }
   ],
   "source": [
    "my_list = [8,1,9,4,5,5,6]\n",
    "select_sort(my_list)"
   ]
  },
  {
   "cell_type": "code",
   "execution_count": null,
   "metadata": {
    "collapsed": true
   },
   "outputs": [],
   "source": []
  },
  {
   "cell_type": "code",
   "execution_count": null,
   "metadata": {
    "collapsed": true
   },
   "outputs": [],
   "source": []
  },
  {
   "cell_type": "code",
   "execution_count": null,
   "metadata": {
    "collapsed": true
   },
   "outputs": [],
   "source": []
  },
  {
   "cell_type": "code",
   "execution_count": null,
   "metadata": {
    "collapsed": true
   },
   "outputs": [],
   "source": []
  }
 ],
 "metadata": {
  "kernelspec": {
   "display_name": "Python 3",
   "language": "python",
   "name": "python3"
  },
  "language_info": {
   "codemirror_mode": {
    "name": "ipython",
    "version": 3
   },
   "file_extension": ".py",
   "mimetype": "text/x-python",
   "name": "python",
   "nbconvert_exporter": "python",
   "pygments_lexer": "ipython3",
   "version": "3.4.5"
  }
 },
 "nbformat": 4,
 "nbformat_minor": 2
}
