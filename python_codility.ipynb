{
 "cells": [
  {
   "cell_type": "markdown",
   "metadata": {},
   "source": [
    "### 1) BinaryGap"
   ]
  },
  {
   "cell_type": "code",
   "execution_count": 1,
   "metadata": {
    "collapsed": true
   },
   "outputs": [],
   "source": [
    "# BinaryGap\n",
    "\"\"\"\n",
    "\n",
    "For example, number 9 has binary representation 1001 \n",
    "and contains a binary gap of length 2. The number 529 has \n",
    "binary representation 1000010001 and contains two binary gaps:\n",
    "one of length 4 and one of length 3. The number 20 has binary \n",
    "representation 10100  and contains one binary gap of length 1. \n",
    "\n",
    "The number 15 has binary representation 1111 and has no binary gaps.\n",
    "\"\"\"\n",
    "\n",
    "def solution(N):\n",
    "    # write your code in Python 2.7\n",
    "    try:\n",
    "    \tcount = max([k.count(\"0\") for k in str(bin(N)[2:]).split(\"1\")][1:-1])\n",
    "    except:\n",
    "    \tcount = 0 \n",
    "    return count\n"
   ]
  },
  {
   "cell_type": "code",
   "execution_count": 3,
   "metadata": {},
   "outputs": [
    {
     "data": {
      "text/plain": [
       "1"
      ]
     },
     "execution_count": 3,
     "metadata": {},
     "output_type": "execute_result"
    }
   ],
   "source": [
    "solution(1000)"
   ]
  },
  {
   "cell_type": "markdown",
   "metadata": {},
   "source": [
    "### 2) CyclicRotation"
   ]
  },
  {
   "cell_type": "code",
   "execution_count": 5,
   "metadata": {
    "collapsed": true
   },
   "outputs": [],
   "source": [
    "\n",
    "\n",
    "# CyclicRotation\n",
    "\n",
    "\"\"\"\n",
    "\n",
    "For example, the rotation of array\n",
    "A = [3, 8, 9, 7, 6] is [6, 3, 8, 9, 7]. \n",
    "The goal is to rotate array A K times; that is,\n",
    "each element of A will be shifted to the right by K indexes.\n",
    "\n",
    "\n",
    "\n",
    "For example, given array A = [3, 8, 9, 7, 6] \n",
    "and K = 3, the function should return [9, 7, 6, 3, 8].\n",
    "\n",
    "\"\"\"\n",
    "\n",
    "def solution(A, K):\n",
    "    # write your code in Python 2.7\n",
    "    count = 0 \n",
    "    #K = K -1 \n",
    "    if len(A) == 0:\n",
    "        return []\n",
    "    else:\n",
    "        while count < K:\n",
    "            A.insert(0,A[-1])\n",
    "            A.pop(-1)\n",
    "            count += 1 \n",
    "        return A"
   ]
  },
  {
   "cell_type": "code",
   "execution_count": 6,
   "metadata": {},
   "outputs": [
    {
     "data": {
      "text/plain": [
       "[3, 4, 1, 2]"
      ]
     },
     "execution_count": 6,
     "metadata": {},
     "output_type": "execute_result"
    }
   ],
   "source": [
    "solution([1,2,3,4],2)"
   ]
  }
 ],
 "metadata": {
  "kernelspec": {
   "display_name": "Python 3",
   "language": "python",
   "name": "python3"
  },
  "language_info": {
   "codemirror_mode": {
    "name": "ipython",
    "version": 3
   },
   "file_extension": ".py",
   "mimetype": "text/x-python",
   "name": "python",
   "nbconvert_exporter": "python",
   "pygments_lexer": "ipython3",
   "version": "3.4.5"
  }
 },
 "nbformat": 4,
 "nbformat_minor": 2
}
