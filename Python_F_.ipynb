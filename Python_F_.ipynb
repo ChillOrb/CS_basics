{
 "cells": [
  {
   "cell_type": "markdown",
   "metadata": {},
   "source": [
    "- Loop \n",
    "- Lists (ArrayLists)\n",
    "- Dictionaries (HashMaps)"
   ]
  },
  {
   "cell_type": "markdown",
   "metadata": {},
   "source": [
    "#### 1)  Write a function that returns the elements on odd positions (0 based) in a list\n"
   ]
  },
  {
   "cell_type": "code",
   "execution_count": 1,
   "metadata": {
    "collapsed": true
   },
   "outputs": [],
   "source": [
    "#def solution(input):\n",
    "#    #code goes here \n",
    "#    return output\n",
    "#\n",
    "#assert solution([0,1,2,3,4,5]) == [1,3,5]\n",
    "#assert solution([1,-1,2,-2]) == [-1,-2]\n",
    "\n",
    "\n",
    "# 1st way\n",
    "def solution(x):\n",
    "    return x[1::2]"
   ]
  },
  {
   "cell_type": "code",
   "execution_count": 2,
   "metadata": {
    "collapsed": true
   },
   "outputs": [],
   "source": [
    "l = [0,1,2,3,4,5]\n",
    "k = [1,-1,2,-2]\n",
    "g = [-2, -4, -5, 10, 11, 99]"
   ]
  },
  {
   "cell_type": "code",
   "execution_count": 3,
   "metadata": {},
   "outputs": [
    {
     "name": "stdout",
     "output_type": "stream",
     "text": [
      "[1, 3, 5]\n",
      "[-1, -2]\n",
      "[-4, 10, 99]\n"
     ]
    }
   ],
   "source": [
    "print (solution(l))\n",
    "print (solution(k))\n",
    "print (solution(g))"
   ]
  },
  {
   "cell_type": "markdown",
   "metadata": {},
   "source": [
    "#### 2) Write a function that returns the cumulative sum of elements in a list"
   ]
  },
  {
   "cell_type": "code",
   "execution_count": 4,
   "metadata": {
    "collapsed": true
   },
   "outputs": [],
   "source": [
    "#def solution(input):\n",
    "#    # Code goes here \n",
    "#    return output\n",
    "#assert solution([1,1,1]) == [1,2,3]\n",
    "#assert solution([1,-1,3]) == [1,0,3]\n",
    "\n",
    "def solution1(x):\n",
    "    temp = 0 \n",
    "    outcome = []\n",
    "    for k in x:\n",
    "        temp += k\n",
    "        outcome.append(temp)\n",
    "    return outcome"
   ]
  },
  {
   "cell_type": "code",
   "execution_count": 5,
   "metadata": {},
   "outputs": [
    {
     "data": {
      "text/plain": [
       "[1, -1, 3]"
      ]
     },
     "execution_count": 5,
     "metadata": {},
     "output_type": "execute_result"
    }
   ],
   "source": [
    "l = [1,1,1]\n",
    "k = [1,-1,3]\n",
    "k"
   ]
  },
  {
   "cell_type": "code",
   "execution_count": 6,
   "metadata": {},
   "outputs": [
    {
     "name": "stdout",
     "output_type": "stream",
     "text": [
      "[1]\n",
      "[-1]\n"
     ]
    }
   ],
   "source": [
    "print (solution(l))\n",
    "print (solution(k))"
   ]
  },
  {
   "cell_type": "markdown",
   "metadata": {},
   "source": [
    "#### 3) Write a function that takes a number and returns a list of its digits"
   ]
  },
  {
   "cell_type": "code",
   "execution_count": 73,
   "metadata": {},
   "outputs": [],
   "source": [
    "#def solution(input):\n",
    "#    # Code goes here\n",
    "#    return output\n",
    "#\n",
    "#assert solution(123) == [1,2,3]\n",
    "#assert solution(400) == [4,0,0]\n",
    "\n",
    "\n",
    "\n",
    "# 1st way\n",
    "def solution1(n):\n",
    "    return [int(y) for y in str(n)]\n",
    "\n",
    "# 2nd way \n",
    "def solution2(n):\n",
    "    if n < 10:\n",
    "        return [n]\n",
    "    return getdigits(int(n/10)) + [n%10]"
   ]
  },
  {
   "cell_type": "code",
   "execution_count": 49,
   "metadata": {},
   "outputs": [
    {
     "name": "stdout",
     "output_type": "stream",
     "text": [
      "[1, 3, 3]\n",
      "[9, 1, 3]\n",
      "[3]\n"
     ]
    }
   ],
   "source": [
    "print (solution1(133))\n",
    "print (solution1(913))\n",
    "print (solution1(3))"
   ]
  },
  {
   "cell_type": "code",
   "execution_count": 74,
   "metadata": {},
   "outputs": [
    {
     "name": "stdout",
     "output_type": "stream",
     "text": [
      "[1, 3, 3]\n",
      "[9, 1, 3]\n",
      "[3]\n"
     ]
    }
   ],
   "source": [
    "print (solution2(133))\n",
    "print (solution2(913))\n",
    "print (solution2(3))"
   ]
  },
  {
   "cell_type": "markdown",
   "metadata": {},
   "source": [
    "#### 4) Return the \"centered\" average of an array of ints, which we'll say is  the mean average of the values, except ignoring the largest and  smallest values in the array."
   ]
  },
  {
   "cell_type": "code",
   "execution_count": 100,
   "metadata": {
    "collapsed": true
   },
   "outputs": [],
   "source": [
    "#If there are multiple copies of the \n",
    "#smallest value, ignore just one copy, and likewise for the largest \n",
    "#value. Use int division to produce the final average. You may assume \n",
    "#that the array is length 3 or more.\n",
    "\n",
    "#def solution(input):\n",
    "#    # Code goes here\n",
    "#    return output \n",
    "\n",
    "#assert solution([1, 2, 3, 4, 100]) == 3\n",
    "#assert solution([1, 1, 5, 5, 10, 8, 7]) == 5\n",
    "#assert solution([-10, -4, -2, -4, -2, 0]) == -3\n",
    "\n",
    "# 1st way \n",
    "def solution1(x):\n",
    "    if len(x)%2 == 1:\n",
    "        return x[int((len(x)-1)/2)]\n",
    "    if len(x)%2 == 0: \n",
    "        return (x[int((len(x)-1)/2)] + x[int((len(x)+1)/2)])/2\n",
    "        "
   ]
  },
  {
   "cell_type": "code",
   "execution_count": 104,
   "metadata": {},
   "outputs": [
    {
     "name": "stdout",
     "output_type": "stream",
     "text": [
      "3\n",
      "-3.0\n",
      "5\n",
      "50.0\n",
      "4\n"
     ]
    }
   ],
   "source": [
    "x = [1, 2, 3, 4, 100]\n",
    "y = [-10, -4, -2, -4, -2, 0]\n",
    "z = [1, 1, 5, 5, 10, 8, 7]\n",
    "w = [0,100]\n",
    "k = [4]\n",
    "\n",
    "print (solution1(x)) \n",
    "print (solution1(y)) \n",
    "print (solution1(z)) \n",
    "print (solution1(w)) \n",
    "print (solution1(k)) "
   ]
  }
 ],
 "metadata": {
  "kernelspec": {
   "display_name": "Python 3",
   "language": "python",
   "name": "python3"
  },
  "language_info": {
   "codemirror_mode": {
    "name": "ipython",
    "version": 3
   },
   "file_extension": ".py",
   "mimetype": "text/x-python",
   "name": "python",
   "nbconvert_exporter": "python",
   "pygments_lexer": "ipython3",
   "version": "3.4.5"
  }
 },
 "nbformat": 4,
 "nbformat_minor": 2
}
