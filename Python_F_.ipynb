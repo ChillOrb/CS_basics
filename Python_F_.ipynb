{
 "cells": [
  {
   "cell_type": "markdown",
   "metadata": {},
   "source": [
    "- Loop \n",
    "- Lists (ArrayLists)\n",
    "- Dictionaries (HashMaps)"
   ]
  },
  {
   "cell_type": "markdown",
   "metadata": {},
   "source": [
    "#### 1)  Write a function that returns the elements on odd positions (0 based) in a list\n"
   ]
  },
  {
   "cell_type": "code",
   "execution_count": 46,
   "metadata": {
    "collapsed": true
   },
   "outputs": [],
   "source": [
    "#def solution(input):\n",
    "#    #code goes here \n",
    "#    return output\n",
    "#\n",
    "#assert solution([0,1,2,3,4,5]) == [1,3,5]\n",
    "#assert solution([1,-1,2,-2]) == [-1,-2]\n",
    "\n",
    "\n",
    "# 1st way\n",
    "def solution(x):\n",
    "    return x[1::2]"
   ]
  },
  {
   "cell_type": "code",
   "execution_count": 41,
   "metadata": {
    "collapsed": true
   },
   "outputs": [],
   "source": [
    "l = [0,1,2,3,4,5]\n",
    "k = [1,-1,2,-2]\n",
    "g = [-2, -4, -5, 10, 11, 99]"
   ]
  },
  {
   "cell_type": "code",
   "execution_count": 42,
   "metadata": {},
   "outputs": [
    {
     "name": "stdout",
     "output_type": "stream",
     "text": [
      "[1, 3, 5]\n",
      "[-1, -2]\n",
      "[-4, 10, 99]\n"
     ]
    }
   ],
   "source": [
    "print (solution(l))\n",
    "print (solution(k))\n",
    "print (solution(g))"
   ]
  },
  {
   "cell_type": "markdown",
   "metadata": {},
   "source": [
    "#### 2) Write a function that returns the cumulative sum of elements in a list"
   ]
  },
  {
   "cell_type": "code",
   "execution_count": 56,
   "metadata": {
    "collapsed": true
   },
   "outputs": [],
   "source": [
    "#def solution(input):\n",
    "#    # Code goes here \n",
    "#    return output\n",
    "#assert solution([1,1,1]) == [1,2,3]\n",
    "#assert solution([1,-1,3]) == [1,0,3]\n",
    "\n",
    "def solution1(x):\n",
    "    temp = 0 \n",
    "    outcome = []\n",
    "    for k in x:\n",
    "        temp += k\n",
    "        outcome.append(temp)\n",
    "    return outcome"
   ]
  },
  {
   "cell_type": "code",
   "execution_count": 54,
   "metadata": {},
   "outputs": [
    {
     "data": {
      "text/plain": [
       "[1, -1, 3]"
      ]
     },
     "execution_count": 54,
     "metadata": {},
     "output_type": "execute_result"
    }
   ],
   "source": [
    "l = [1,1,1]\n",
    "k = [1,-1,3]\n",
    "k"
   ]
  },
  {
   "cell_type": "code",
   "execution_count": 58,
   "metadata": {},
   "outputs": [
    {
     "name": "stdout",
     "output_type": "stream",
     "text": [
      "[1, 2, 3]\n",
      "[1, 0, 3]\n"
     ]
    }
   ],
   "source": [
    "print (solution(l))\n",
    "print (solution(k))"
   ]
  },
  {
   "cell_type": "markdown",
   "metadata": {},
   "source": [
    "#### 3) Write a function that takes a number and returns a list of its digits"
   ]
  },
  {
   "cell_type": "code",
   "execution_count": 119,
   "metadata": {
    "collapsed": true
   },
   "outputs": [],
   "source": [
    "#def solution(input):\n",
    "#    # Code goes here\n",
    "#    return output\n",
    "#\n",
    "#assert solution(123) == [1,2,3]\n",
    "#assert solution(400) == [4,0,0]\n",
    "\n",
    "import numpy as np\n",
    "\n",
    "\n",
    "\n",
    "def solution(x):\n",
    "    digit = np.log10(x)\n",
    "    a = x//100\n",
    "    b = (x - 100*(a))//10\n",
    "    c = (x -100*a -10*b)\n",
    "    return [a,b,c]\n",
    "\n",
    "\n",
    "def solution_(x):\n",
    "    if 0 <= x <10:\n",
    "        return x \n",
    "\n",
    "    else:\n",
    "        ###\n",
    "        output = []\n",
    "        digit = np.log10(x)\n",
    "        temp = x//(10**digit)\n",
    "        ###\n",
    "        output.append(temp)\n",
    "        temp = x - (temp)*(10**digit)\n",
    "        digit = digit -1 \n",
    "        solution_(temp)\n",
    "    return output"
   ]
  },
  {
   "cell_type": "code",
   "execution_count": 120,
   "metadata": {
    "collapsed": true
   },
   "outputs": [],
   "source": [
    "#solution_(l)"
   ]
  },
  {
   "cell_type": "code",
   "execution_count": 105,
   "metadata": {},
   "outputs": [
    {
     "data": {
      "text/plain": [
       "1"
      ]
     },
     "execution_count": 105,
     "metadata": {},
     "output_type": "execute_result"
    }
   ],
   "source": [
    "1234//1000"
   ]
  },
  {
   "cell_type": "code",
   "execution_count": 110,
   "metadata": {},
   "outputs": [
    {
     "data": {
      "text/plain": [
       "1"
      ]
     },
     "execution_count": 110,
     "metadata": {},
     "output_type": "execute_result"
    }
   ],
   "source": [
    "1234//(10**3)"
   ]
  },
  {
   "cell_type": "code",
   "execution_count": 107,
   "metadata": {},
   "outputs": [
    {
     "data": {
      "text/plain": [
       "[0, 1, 2]"
      ]
     },
     "execution_count": 107,
     "metadata": {},
     "output_type": "execute_result"
    }
   ],
   "source": [
    "l = (123)\n",
    "k = (400)\n",
    "w = (1000)\n",
    "x = (12)\n",
    "\n",
    "\n",
    "solution(x)"
   ]
  },
  {
   "cell_type": "code",
   "execution_count": 92,
   "metadata": {},
   "outputs": [
    {
     "data": {
      "text/plain": [
       "1"
      ]
     },
     "execution_count": 92,
     "metadata": {},
     "output_type": "execute_result"
    }
   ],
   "source": [
    "l//100"
   ]
  },
  {
   "cell_type": "code",
   "execution_count": 91,
   "metadata": {},
   "outputs": [
    {
     "data": {
      "text/plain": [
       "2"
      ]
     },
     "execution_count": 91,
     "metadata": {},
     "output_type": "execute_result"
    }
   ],
   "source": [
    "(l - 100*(l//100))//10"
   ]
  },
  {
   "cell_type": "code",
   "execution_count": 81,
   "metadata": {},
   "outputs": [
    {
     "data": {
      "text/plain": [
       "3"
      ]
     },
     "execution_count": 81,
     "metadata": {},
     "output_type": "execute_result"
    }
   ],
   "source": [
    "l - 100*(l//100) - 10*((l - 100*(l//100))//10)"
   ]
  }
 ],
 "metadata": {
  "kernelspec": {
   "display_name": "Python 3",
   "language": "python",
   "name": "python3"
  },
  "language_info": {
   "codemirror_mode": {
    "name": "ipython",
    "version": 3
   },
   "file_extension": ".py",
   "mimetype": "text/x-python",
   "name": "python",
   "nbconvert_exporter": "python",
   "pygments_lexer": "ipython3",
   "version": "3.4.5"
  }
 },
 "nbformat": 4,
 "nbformat_minor": 2
}
